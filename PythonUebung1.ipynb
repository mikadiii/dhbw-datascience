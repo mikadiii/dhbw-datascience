{
 "cells": [
  {
   "cell_type": "markdown",
   "source": [
    "# Python Übung 1 - Daten untersuchen"
   ],
   "metadata": {}
  },
  {
   "cell_type": "code",
   "execution_count": null,
   "source": [
    "data1 = [[10, 8.04], [8, 6.95], [13, 7.58], [9, 8.81], [11, 8.33], [14, 9.96], [6, 7.24], [4,  4.26], [12, 10.84], [7, 4.82], [5, 5.68]]\r\n",
    "data2 = [[10, 9.14], [8, 8.14], [13, 8.74], [9, 8.77], [11, 9.26], [14, 8.1],  [6, 6.13], [4,  3.1],  [12,  9.13], [7, 7.26], [5, 4.74]]\r\n",
    "data3 = [[10, 7.46], [8, 6.77], [13,12.74], [9, 7.11], [11, 7.81], [14, 8.84], [6, 6.08], [4,  5.39], [12,  8.15], [7, 6.42], [5,5.73]]\r\n",
    "data4 = [[ 8, 6.58], [8, 5.76], [ 8, 7.71], [8, 8.84], [ 8, 8.47], [ 8, 7.04], [8, 5.25], [19,12.5],  [ 8,  5.56], [8, 7.91], [8, 6.89]]\r\n"
   ],
   "outputs": [],
   "metadata": {}
  },
  {
   "cell_type": "markdown",
   "source": [
    "1: Benutzen Sie eine Python-Funktion, um die Anzahl der Dimensionen p zu berechnen für alle 4 Datenreihen. \n",
    "Hinweis: Importieren Sie pandas und erstellen Sie 4 DataFrames für die Daten, benennen Sie die Spalten X und Y."
   ],
   "metadata": {}
  },
  {
   "cell_type": "code",
   "execution_count": null,
   "source": [
    "import pandas as pd\r\n",
    "pd_data1 = pd.DataFrame(data1)\r\n",
    "pd_data2 = pd.DataFrame(data2)\r\n",
    "pd_data3 = pd.DataFrame(data3)\r\n",
    "pd_data4 = pd.DataFrame(data4)\r\n",
    "pd_data = [pd_data1,pd_data2,pd_data3,pd_data4]\r\n",
    "for data in pd_data:\r\n",
    "    data.rename(columns={0:'X',1:'Y'},inplace=True)\r\n",
    "    print(data.count().count())\r\n"
   ],
   "outputs": [],
   "metadata": {}
  },
  {
   "cell_type": "markdown",
   "source": [
    "2: Geben Sie die Anzahl der Datenpunkte, den Durchschnitt, Min, Max, und die Perzentilen aus. Vergleichen Sie die Werte über alle Datensätze."
   ],
   "metadata": {}
  },
  {
   "cell_type": "code",
   "execution_count": null,
   "source": [
    "for data in pd_data:\r\n",
    "    print(f\"Anzahl der Datenpunkte: {data.count()[0],data.count()[1]}\")\r\n",
    "    print(f\"X -- Min: {data.min()[0]}, Max: {data.max()[0]}, 25%: {data.quantile(0.25)[0]}, 50%: {data.quantile(0.5)[0]}, 75%: {data.quantile(0.75)[0]}\")\r\n",
    "    print(f\"Y -- Min: {data.min()[1]}, Max: {data.max()[1]}, 25%: {data.quantile(0.25)[1]}, 50%: {data.quantile(0.5)[1]}, 75%: {data.quantile(0.75)[1]}\")"
   ],
   "outputs": [],
   "metadata": {}
  },
  {
   "cell_type": "markdown",
   "source": [
    "3: Berechnen Sie die Korrelation zwischen X und Y für alle 4 Datensätze. Was können Sie daraus schließen? Berechnen Sie zudem auch die Korrletion ^2. "
   ],
   "metadata": {}
  },
  {
   "cell_type": "code",
   "execution_count": null,
   "source": [
    "#ToDo\r\n",
    "for data in pd_data:\r\n",
    "    print(f\"Korrelation: {data['X'].corr(data['Y'])}, Korr^2: {data['X'].corr(data['Y'])** 2 }\")"
   ],
   "outputs": [],
   "metadata": {}
  },
  {
   "cell_type": "markdown",
   "source": [
    "4: Erstellen Sie Scatterplots für alle vier Datensätze. Hint: Nutzen Sie Seaborn oder Matplotlib. "
   ],
   "metadata": {}
  },
  {
   "cell_type": "code",
   "execution_count": null,
   "source": [
    "import seaborn as sns\r\n",
    "#ToDo\r\n",
    "for data in pd_data:\r\n",
    "    sns.scatterplot(data=data,x='X',y='Y')"
   ],
   "outputs": [],
   "metadata": {}
  },
  {
   "cell_type": "markdown",
   "source": [
    "5: Führen Sie eine lineare Regression durch. Der unten gegebene Code importiert bereits numpy und das Modell als auch den Plot. Das reshaping für die Lineare Regression ist auch schon erledigt. "
   ],
   "metadata": {}
  },
  {
   "cell_type": "code",
   "execution_count": null,
   "source": [
    "import numpy as np\r\n",
    "import matplotlib.pyplot as plt  \r\n",
    "from sklearn.linear_model import LinearRegression\r\n",
    "\r\n",
    "# hier einkommentieren\r\n",
    "data_linreg = []\r\n",
    "for df in pd_data:\r\n",
    "    X = df.iloc[:, 0].values.reshape(-1, 1)  # numpy! \r\n",
    "    Y = df.iloc[:, 1].values.reshape(-1, 1)\r\n",
    "    data_linreg.append([X,Y]) "
   ],
   "outputs": [],
   "metadata": {}
  },
  {
   "cell_type": "markdown",
   "source": [
    "5: contd. Danach müssen Sie das Objekt LinearRegression instanziieren und \"fitten\". Sie können die Regression mit score bewerten. Geben Sie die Koeffizienten aus (coef_) und die Schnittstelle (intercept_). Vergleichen Sie den score (R^2-Wert) mit dem oben berechneten Korrelation ^ 2 Wert. "
   ],
   "metadata": {}
  },
  {
   "cell_type": "code",
   "execution_count": null,
   "source": [
    "linreg1 = LinearRegression()\r\n",
    "linreg2 = LinearRegression()\r\n",
    "linreg3 = LinearRegression()\r\n",
    "linreg4 = LinearRegression()\r\n",
    "\r\n",
    "linreg1.fit(data_linreg[0][0],data_linreg[0][1])\r\n",
    "linreg2.fit(data_linreg[1][0],data_linreg[1][1])\r\n",
    "linreg3.fit(data_linreg[2][0],data_linreg[2][1])\r\n",
    "linreg4.fit(data_linreg[3][0],data_linreg[3][1])\r\n",
    "\r\n",
    "linreg = [linreg1,linreg2,linreg3,linreg4]"
   ],
   "outputs": [],
   "metadata": {}
  },
  {
   "cell_type": "markdown",
   "source": [
    "6: Sagen die die Werte für Y_pred mit predict voraus. Nutzen Sie einen Scatterplot, um X, Y und die Regressionslinie einzuzeichnen. Das geht z. B. mit Matplotlib oder Seaborn. "
   ],
   "metadata": {}
  },
  {
   "cell_type": "code",
   "execution_count": 53,
   "source": [
    "#ToDo\r\n",
    "predict1 = linreg1.predict(data_linreg[0][0])\r\n",
    "predict2 = linreg1.predict(data_linreg[1][0])\r\n",
    "predict3 = linreg1.predict(data_linreg[2][0])\r\n",
    "predict4 = linreg1.predict(data_linreg[3][0])\r\n",
    "plt.scatter(data_linreg[0][0],data_linreg[0][1],color='black')\r\n",
    "plt.scatter(data_linreg[1][0],data_linreg[1][1],color='blue')\r\n",
    "plt.scatter(data_linreg[2][0],data_linreg[2][1],color='red')\r\n",
    "plt.scatter(data_linreg[3][0],data_linreg[3][1],color='green')\r\n",
    "plt.plot(data_linreg[0][0],predict1,color='black')\r\n",
    "plt.plot(data_linreg[1][0],predict2,color='blue')\r\n",
    "plt.plot(data_linreg[2][0],predict3,color='red')\r\n",
    "plt.plot(data_linreg[3][0],predict4,color='green')\r\n"
   ],
   "outputs": [
    {
     "output_type": "execute_result",
     "data": {
      "text/plain": [
       "[<matplotlib.lines.Line2D at 0x1d31019aaf0>]"
      ]
     },
     "metadata": {},
     "execution_count": 53
    },
    {
     "output_type": "display_data",
     "data": {
      "image/png": "[encoded data removed]",
      "text/plain": [
       "<Figure size 432x288 with 1 Axes>"
      ]
     },
     "metadata": {
      "needs_background": "light"
     }
    }
   ],
   "metadata": {}
  },
  {
   "cell_type": "markdown",
   "source": [
    "7: Löschen Sie den \"Ausreißer\" aus Datensatz 3. Wiederholen Sie die Schritte 5 und 6. Was fällt auf? "
   ],
   "metadata": {}
  },
  {
   "cell_type": "code",
   "execution_count": 70,
   "source": [
    "#ToDo\r\n",
    "data4_mod = [[ 8, 6.58], [8, 5.76], [ 8, 7.71], [8, 8.84], [ 8, 8.47], [ 8, 7.04], [8, 5.25],  [ 8,  5.56], [8, 7.91], [8, 6.89]]\r\n",
    "data4_mod = pd.DataFrame(data4_mod)\r\n",
    "X = data4_mod.iloc[:, 0].values.reshape(-1, 1)  # numpy! \r\n",
    "Y = data4_mod.iloc[:, 1].values.reshape(-1, 1)\r\n",
    "linreg4_mod = LinearRegression()\r\n",
    "linreg4_mod.fit(X,Y)\r\n",
    "pred4_mod = linreg4_mod.predict(X)\r\n",
    "plt.scatter(X,Y,color='green')\r\n",
    "plt.plot(X,pred4_mod,color='green',linewidth=3)"
   ],
   "outputs": [
    {
     "output_type": "execute_result",
     "data": {
      "text/plain": [
       "[<matplotlib.lines.Line2D at 0x1d3104825b0>]"
      ]
     },
     "metadata": {},
     "execution_count": 70
    },
    {
     "output_type": "display_data",
     "data": {
      "image/png": "[encoded data removed]",
      "text/plain": [
       "<Figure size 432x288 with 1 Axes>"
      ]
     },
     "metadata": {
      "needs_background": "light"
     }
    }
   ],
   "metadata": {}
  },
  {
   "cell_type": "markdown",
   "source": [
    "8: Denken Sie kurz darüber nach, was Sie aus dieser gesamten Übung mitnehmen können. Helfen Sie Mitstudierenden."
   ],
   "metadata": {}
  },
  {
   "cell_type": "markdown",
   "source": [
    "Verschiedene Datensätze können gleiches Modell ergeben"
   ],
   "metadata": {}
  },
  {
   "cell_type": "markdown",
   "source": [
    "9: Optional: Erstellen Sie Boxplots für die Daten."
   ],
   "metadata": {}
  },
  {
   "cell_type": "code",
   "execution_count": null,
   "source": [
    "#ToDo"
   ],
   "outputs": [],
   "metadata": {}
  }
 ],
 "metadata": {
  "kernelspec": {
   "name": "python3",
   "display_name": "Python 3.8.8 64-bit ('base': conda)"
  },
  "language_info": {
   "codemirror_mode": {
    "name": "ipython",
    "version": 3
   },
   "file_extension": ".py",
   "mimetype": "text/x-python",
   "name": "python",
   "nbconvert_exporter": "python",
   "pygments_lexer": "ipython3",
   "version": "3.8.8"
  },
  "interpreter": {
   "hash": "b3ba2566441a7c06988d0923437866b63cedc61552a5af99d1f4fb67d367b25f"
  }
 },
 "nbformat": 4,
 "nbformat_minor": 2
}